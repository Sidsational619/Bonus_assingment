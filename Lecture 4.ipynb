{
 "cells": [
  {
   "cell_type": "markdown",
   "metadata": {},
   "source": [
    "# Classwork Lecture 4\n",
    "\n",
    "In this exercise, you'll get familiar with the following basics of python:\n",
    "\n",
    "- String Functions\n",
    "- If Else Statements\n",
    "- For Loops"
   ]
  },
  {
   "cell_type": "markdown",
   "metadata": {},
   "source": [
    "## Student Details\n",
    "\n",
    "- Name: **Siddharth Prasad**\n",
    "- Division: **B**\n",
    "- Roll: **51**"
   ]
  },
  {
   "cell_type": "markdown",
   "metadata": {},
   "source": [
    "# String Functions\n",
    "\n",
    "Python has a set of built-in methods that you can use on strings. Please complete the following short exercise to learn more about the different string functions. \n",
    "\n",
    "[See Reference Library of String Functions](https://www.w3schools.com/python/python_ref_string.asp)\n"
   ]
  },
  {
   "cell_type": "markdown",
   "metadata": {},
   "source": [
    "## Part 1"
   ]
  },
  {
   "cell_type": "code",
   "execution_count": 1,
   "metadata": {},
   "outputs": [],
   "source": [
    "# Name\n",
    "\n",
    "#Empty String\n",
    "empty_string = \"\"\n",
    "#String with numeric values in it\n",
    "numeric_string =\"abc123\""
   ]
  },
  {
   "cell_type": "code",
   "execution_count": 1,
   "metadata": {},
   "outputs": [
    {
     "data": {
      "text/plain": [
       "'siddharth'"
      ]
     },
     "execution_count": 1,
     "metadata": {},
     "output_type": "execute_result"
    }
   ],
   "source": [
    "# Q1 A Create and print a variable called \"my_name\"that stores your name in all lower case\n",
    "my_name =\"siddharth\"\n",
    "my_name"
   ]
  },
  {
   "cell_type": "code",
   "execution_count": 4,
   "metadata": {},
   "outputs": [
    {
     "data": {
      "text/plain": [
       "'Siddharth'"
      ]
     },
     "execution_count": 4,
     "metadata": {},
     "output_type": "execute_result"
    }
   ],
   "source": [
    "# Q1 B Capitalize the first letter of \"my_name\" and then print it\n",
    "my_name = my_name.capitalize()\n",
    "my_name"
   ]
  },
  {
   "cell_type": "code",
   "execution_count": 5,
   "metadata": {},
   "outputs": [
    {
     "data": {
      "text/plain": [
       "'SIDDHARTH'"
      ]
     },
     "execution_count": 5,
     "metadata": {},
     "output_type": "execute_result"
    }
   ],
   "source": [
    "# Q1 C Capitalize all letters of \"my_name\" and then print it\n",
    "my_name = my_name.upper()\n",
    "my_name"
   ]
  },
  {
   "cell_type": "markdown",
   "metadata": {},
   "source": [
    "## Part 2"
   ]
  },
  {
   "cell_type": "code",
   "execution_count": 27,
   "metadata": {},
   "outputs": [
    {
     "data": {
      "text/plain": [
       "'I love apples, apples are my favorite fruit.'"
      ]
     },
     "execution_count": 27,
     "metadata": {},
     "output_type": "execute_result"
    }
   ],
   "source": [
    "# Q2 Create and print a variable called \"my_favorite_fruit\" \n",
    "# and make it store \"I love apples, apples are my favorite fruit\"\n",
    "\n",
    "my_favorite_fruit = \"I love apples, apples are my favorite fruit.\"\n",
    "my_favorite_fruit"
   ]
  },
  {
   "cell_type": "code",
   "execution_count": 28,
   "metadata": {},
   "outputs": [
    {
     "data": {
      "text/plain": [
       "'I love'"
      ]
     },
     "execution_count": 28,
     "metadata": {},
     "output_type": "execute_result"
    }
   ],
   "source": [
    "# Q2 Make A Sub String of the first five characters\n",
    "first_five_characters = my_favorite_fruit[0:6]\n",
    "first_five_characters"
   ]
  },
  {
   "cell_type": "code",
   "execution_count": 29,
   "metadata": {},
   "outputs": [
    {
     "data": {
      "text/plain": [
       "False"
      ]
     },
     "execution_count": 29,
     "metadata": {},
     "output_type": "execute_result"
    }
   ],
   "source": [
    "# Q2 B Print whether \"my_favorite_fruit\" ends with \"fruit\" \n",
    "my_favorite_fruit.endswith(\"fruit\")\n"
   ]
  },
  {
   "cell_type": "code",
   "execution_count": 30,
   "metadata": {},
   "outputs": [
    {
     "data": {
      "text/plain": [
       "2"
      ]
     },
     "execution_count": 30,
     "metadata": {},
     "output_type": "execute_result"
    }
   ],
   "source": [
    "# Q2 C Count and print the number of times the value \"apple\" appears in the string\n",
    "apple_count =my_favorite_fruit.count(\"apple\")\n",
    "apple_count"
   ]
  },
  {
   "cell_type": "code",
   "execution_count": 33,
   "metadata": {},
   "outputs": [
    {
     "data": {
      "text/plain": [
       "'I love banana, banana are my favorite fruit.'"
      ]
     },
     "execution_count": 33,
     "metadata": {},
     "output_type": "execute_result"
    }
   ],
   "source": [
    "# Q2 D Replace \"apple\" with \"banana\" in \"my_favorite_fruit\"\n",
    "my_favorite_fruit= my_favorite_fruit.replace(\"apples\",\"banana\")\n",
    "my_favorite_fruit"
   ]
  },
  {
   "cell_type": "code",
   "execution_count": 35,
   "metadata": {},
   "outputs": [
    {
     "data": {
      "text/plain": [
       "'I Love Banana, Banana Are My Favorite Fruit.'"
      ]
     },
     "execution_count": 35,
     "metadata": {},
     "output_type": "execute_result"
    }
   ],
   "source": [
    "# Q2 E Convert the first character of each word in \"my_favorite_fruit\" to upper case\n",
    "my_favorite_fruit =my_favorite_fruit.title()\n",
    "my_favorite_fruit"
   ]
  },
  {
   "cell_type": "code",
   "execution_count": 11,
   "metadata": {},
   "outputs": [],
   "source": [
    "# Q2 F Split \"my_favorite_fruit\" on \",\" and print the result\n"
   ]
  },
  {
   "cell_type": "code",
   "execution_count": 40,
   "metadata": {},
   "outputs": [
    {
     "data": {
      "text/plain": [
       "['I Love Banana', 'Banana Are My Favorite Fruit.']"
      ]
     },
     "execution_count": 40,
     "metadata": {},
     "output_type": "execute_result"
    }
   ],
   "source": [
    "split_list = my_favorite_fruit.split(\", \")\n",
    "split_list"
   ]
  },
  {
   "cell_type": "code",
   "execution_count": null,
   "metadata": {},
   "outputs": [],
   "source": []
  },
  {
   "cell_type": "code",
   "execution_count": 37,
   "metadata": {},
   "outputs": [
    {
     "data": {
      "text/plain": [
       "'maruti ,mazda , audi , kia , mg'"
      ]
     },
     "execution_count": 37,
     "metadata": {},
     "output_type": "execute_result"
    }
   ],
   "source": [
    "cars =\"maruti ,mazda , audi , kia , mg\"\n",
    "cars"
   ]
  },
  {
   "cell_type": "code",
   "execution_count": null,
   "metadata": {},
   "outputs": [],
   "source": []
  },
  {
   "cell_type": "markdown",
   "metadata": {},
   "source": [
    "# If Else Statements\n",
    "\n",
    "[See Reference](https://info370a-w19.github.io/python-basics/logic-and-conditionals.html)"
   ]
  },
  {
   "cell_type": "code",
   "execution_count": 12,
   "metadata": {},
   "outputs": [],
   "source": [
    "# Function that prints if the mother is older\n"
   ]
  },
  {
   "cell_type": "code",
   "execution_count": null,
   "metadata": {},
   "outputs": [],
   "source": []
  },
  {
   "cell_type": "markdown",
   "metadata": {},
   "source": [
    "# Make a Pass Fail Function That Accepts a Grade\n",
    "- if greater than 35 should print \"pass\"\n",
    "- else if the grade is 35 should print \"just passed\"\n",
    "- else print \"failed\" "
   ]
  },
  {
   "cell_type": "code",
   "execution_count": 52,
   "metadata": {},
   "outputs": [],
   "source": [
    "def grade_student(grade):\n",
    "    if grade>35:\n",
    "        print(\"Pass\")\n",
    "    elif grade==35:\n",
    "        print(\"Just Pass\")\n",
    "        \n",
    "    else:\n",
    "        print(\"Fail\")\n",
    "        "
   ]
  },
  {
   "cell_type": "code",
   "execution_count": 56,
   "metadata": {},
   "outputs": [
    {
     "name": "stdout",
     "output_type": "stream",
     "text": [
      "Pass\n"
     ]
    }
   ],
   "source": [
    "grade_student(37)"
   ]
  },
  {
   "cell_type": "raw",
   "metadata": {},
   "source": []
  },
  {
   "cell_type": "markdown",
   "metadata": {},
   "source": [
    "# Create a function that accepts the current temperature and returns \"is hot\" if the temperature is greater than 24 and returns \"is not hot\" if the temperature is equal to or below 24"
   ]
  },
  {
   "cell_type": "code",
   "execution_count": 58,
   "metadata": {},
   "outputs": [],
   "source": [
    "def is_hot_or_not(temperature):\n",
    "    if temperature>24:\n",
    "        return \"Is Hot\"\n",
    "    else:\n",
    "        return \"Is not Hot\""
   ]
  },
  {
   "cell_type": "code",
   "execution_count": 59,
   "metadata": {},
   "outputs": [
    {
     "data": {
      "text/plain": [
       "'Is not Hot'"
      ]
     },
     "execution_count": 59,
     "metadata": {},
     "output_type": "execute_result"
    }
   ],
   "source": [
    "is_hot_or_not(14)"
   ]
  },
  {
   "cell_type": "code",
   "execution_count": 62,
   "metadata": {},
   "outputs": [
    {
     "data": {
      "text/plain": [
       "'Is Hot'"
      ]
     },
     "execution_count": 62,
     "metadata": {},
     "output_type": "execute_result"
    }
   ],
   "source": [
    "is_hot_or_not(25)"
   ]
  },
  {
   "cell_type": "markdown",
   "metadata": {},
   "source": [
    "# Grades\n",
    "\n",
    "- A Grade: 90 and above\n",
    "- B Grade: 70 and 89\n",
    "- C Grade: 50 and 69\n",
    "- D Grade: 35 and 49\n",
    "- F Grade: Anything below 35"
   ]
  },
  {
   "cell_type": "code",
   "execution_count": 64,
   "metadata": {},
   "outputs": [],
   "source": [
    "#Grader Function\n",
    "def grades(score):\n",
    "    if score>=90:\n",
    "        return \"A\"\n",
    "    elif score>=70 and score<=89:\n",
    "        return \"B\"\n",
    "    elif score>=50 and score<=69:\n",
    "        return \"c\"\n",
    "    elif score>=35 and score<=49:\n",
    "        return \"D\"\n",
    "    else :\n",
    "        return \"F\"\n",
    "    "
   ]
  },
  {
   "cell_type": "code",
   "execution_count": 65,
   "metadata": {},
   "outputs": [
    {
     "data": {
      "text/plain": [
       "'A'"
      ]
     },
     "execution_count": 65,
     "metadata": {},
     "output_type": "execute_result"
    }
   ],
   "source": [
    "grades(90)\n"
   ]
  },
  {
   "cell_type": "code",
   "execution_count": 14,
   "metadata": {},
   "outputs": [],
   "source": [
    "# Create a function called \"goldilocks\" that accepts a numeric temperature value \n",
    "# and returns \"This porridge is too hot!\" if the temperature value is >= 80\n",
    "# and returns \"This porridge is just right\" if the temperature value is between 40 and 79\n",
    "# and returns \"This porridge is too cold\" if the temperature value is below 40"
   ]
  },
  {
   "cell_type": "code",
   "execution_count": 69,
   "metadata": {},
   "outputs": [],
   "source": [
    "def goldilocks(temperature):\n",
    "    if temperature>= 80:\n",
    "        return \"This porridge is too hot!\"\n",
    "    elif temperature<=79 and temperature>=40:\n",
    "        return \"This porridge is just right\"\n",
    "    else:\n",
    "        return \"This porridge is too cold\" \n",
    "    "
   ]
  },
  {
   "cell_type": "code",
   "execution_count": 76,
   "metadata": {},
   "outputs": [
    {
     "data": {
      "text/plain": [
       "'This porridge is too cold'"
      ]
     },
     "execution_count": 76,
     "metadata": {},
     "output_type": "execute_result"
    }
   ],
   "source": [
    "goldilocks(25)\n",
    "\n"
   ]
  },
  {
   "cell_type": "markdown",
   "metadata": {},
   "source": [
    "# For Loops"
   ]
  },
  {
   "cell_type": "code",
   "execution_count": 82,
   "metadata": {
    "scrolled": true
   },
   "outputs": [],
   "source": [
    "# Create a list of your favorite movies\n",
    "movies = [\"hera pheri\",\"avengers\",\"dhamal\"]"
   ]
  },
  {
   "cell_type": "code",
   "execution_count": 83,
   "metadata": {},
   "outputs": [
    {
     "name": "stdout",
     "output_type": "stream",
     "text": [
      "I love hera pheri\n",
      "I love avengers\n",
      "I love dhamal\n"
     ]
    }
   ],
   "source": [
    "# Create a for loop that prints each of your favorite movies with the text \"I love \"\n",
    "for movie in movies:\n",
    "    print(\"I love\",movie)"
   ]
  },
  {
   "cell_type": "code",
   "execution_count": 84,
   "metadata": {},
   "outputs": [],
   "source": [
    "# Create a list of your favorite cars and favorite colors\n",
    "cars =[\"maruti\" ,\"mazda\" , \"audi\" ,\"kia\" , \"mg\"]\n",
    "colors=[\"black\",\"white\",\"blue\",\"red\"]"
   ]
  },
  {
   "cell_type": "code",
   "execution_count": 85,
   "metadata": {},
   "outputs": [
    {
     "name": "stdout",
     "output_type": "stream",
     "text": [
      "black maruti\n",
      "white maruti\n",
      "blue maruti\n",
      "red maruti\n",
      "black mazda\n",
      "white mazda\n",
      "blue mazda\n",
      "red mazda\n",
      "black audi\n",
      "white audi\n",
      "blue audi\n",
      "red audi\n",
      "black kia\n",
      "white kia\n",
      "blue kia\n",
      "red kia\n",
      "black mg\n",
      "white mg\n",
      "blue mg\n",
      "red mg\n"
     ]
    }
   ],
   "source": [
    "# Create a nested for loop that prints your favorite car names for each favorite color\n",
    "for car in cars:\n",
    "    for color in colors :\n",
    "        print(color,car)"
   ]
  },
  {
   "cell_type": "markdown",
   "metadata": {},
   "source": [
    "# Create a function that accepts a list of colors and a list of cars  and then returns the following\n",
    "\n",
    "- \"Yes it exists\" if the car combination \"Speed Red Mazda\" is possible\n",
    "- \"Does not exist\" if the car combination \"Speed Red Mazda\" is not possible"
   ]
  },
  {
   "cell_type": "code",
   "execution_count": 89,
   "metadata": {},
   "outputs": [],
   "source": [
    "def choice(cars,colors):\n",
    "\n",
    "    if car ==\"Mazda\":\n",
    "        for car in cars:\n",
    "            if color == \"Speed Red\":\n",
    "                return \"yes it exist\"\n",
    "        \n",
    "        return\"Does not exist\" \n",
    "                    \n"
   ]
  },
  {
   "cell_type": "code",
   "execution_count": null,
   "metadata": {},
   "outputs": [],
   "source": []
  },
  {
   "cell_type": "code",
   "execution_count": null,
   "metadata": {},
   "outputs": [],
   "source": []
  },
  {
   "cell_type": "code",
   "execution_count": null,
   "metadata": {},
   "outputs": [],
   "source": []
  }
 ],
 "metadata": {
  "kernelspec": {
   "display_name": "Python 3",
   "language": "python",
   "name": "python3"
  },
  "language_info": {
   "codemirror_mode": {
    "name": "ipython",
    "version": 3
   },
   "file_extension": ".py",
   "mimetype": "text/x-python",
   "name": "python",
   "nbconvert_exporter": "python",
   "pygments_lexer": "ipython3",
   "version": "3.8.8"
  }
 },
 "nbformat": 4,
 "nbformat_minor": 2
}
