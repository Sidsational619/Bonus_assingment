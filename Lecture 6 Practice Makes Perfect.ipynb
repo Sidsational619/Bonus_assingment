{
 "cells": [
  {
   "cell_type": "markdown",
   "id": "e294ecaa",
   "metadata": {},
   "source": [
    "# Lecture 6\n",
    "\n",
    "In the real world, [pair programming](https://en.wikipedia.org/wiki/Pair_programming#:~:text=Pair%20programming%20is%20an%20agile,two%20programmers%20switch%20roles%20frequently) is a common practice in which two programmers work together at one computer. One, the driver, writes code while the other, the observer or navigator, reviews each line of code as it is typed in. The two programmers switch roles frequently. In your breakout room, one of you should share your screen, while the other assists in a fashion similar to described above so as to solve the following questions listed below. "
   ]
  },
  {
   "cell_type": "markdown",
   "id": "f8a7e86b",
   "metadata": {},
   "source": [
    "## Q1) Write a function called \"gold_counter\" that \n",
    "\n",
    "*What to Do?*\n",
    "- Accepts a list of words\n",
    "- Returns the number of occurences the word \"gold\" appears in the list of words\n",
    "- **Bonus**: make your function work even if the word is \"Gold\". You can use String Functions or the binary operator called \"or\"\n",
    "\n",
    "*What to Print? and Testing*\n",
    "- Create two lists to test this function\n",
    "- Test this function with these two lists"
   ]
  },
  {
   "cell_type": "code",
   "execution_count": 25,
   "id": "16f3eff4",
   "metadata": {},
   "outputs": [],
   "source": [
    "metals=[\"copper\",\"zinc\",\"gold\",\"brass\",\"Gold\",\"gold\"]"
   ]
  },
  {
   "cell_type": "code",
   "execution_count": 33,
   "id": "9a061d37",
   "metadata": {},
   "outputs": [],
   "source": [
    "def gold_counter(metals):\n",
    "    counter = 0\n",
    "    for metal in metals:\n",
    "        if metal == \"gold\" or metal == \"Gold\":\n",
    "            counter= counter + 1\n",
    "           \n",
    "        \n",
    "        \n",
    "    return counter        "
   ]
  },
  {
   "cell_type": "code",
   "execution_count": 34,
   "id": "37f2a354",
   "metadata": {},
   "outputs": [
    {
     "data": {
      "text/plain": [
       "3"
      ]
     },
     "execution_count": 34,
     "metadata": {},
     "output_type": "execute_result"
    }
   ],
   "source": [
    "gold_counter(metals)"
   ]
  },
  {
   "cell_type": "markdown",
   "id": "ee96b5ed",
   "metadata": {},
   "source": [
    "## Q2) Write a function called \"total_occurences\" that\n",
    "\n",
    "*What to do?*\n",
    "- Accepts a target word and a list of words \n",
    "- Return \"No Occurences\" if the word does not appear in the list at all\n",
    "- Return \"1 Occurence\" if the word appears in the list once\n",
    "- Return \"# Occurences\"(e.g. 2 Occurences)if the word does appear in the list \n",
    "- **Bonus**: ensure the case of the letters does not matter\n",
    "\n",
    "*What to Print? / Testing*\n",
    "- Create two lists to test this function\n",
    "- Test this function with these two lists"
   ]
  },
  {
   "cell_type": "code",
   "execution_count": 52,
   "id": "eb4483bb",
   "metadata": {},
   "outputs": [],
   "source": [
    "words= [\"car\",\"bike\",\"Car\",\"cycle\",\"car\"]"
   ]
  },
  {
   "cell_type": "code",
   "execution_count": 53,
   "id": "7287d0f2",
   "metadata": {},
   "outputs": [],
   "source": [
    "def total_occurences(target,words):\n",
    "    occur=0\n",
    "    for word in words:\n",
    "        if target.upper()==word.upper():\n",
    "            occur= occur +1 \n",
    "            \n",
    "        if occur == 1 :\n",
    "            return \"1 occurence\"\n",
    "        elif occur == 0 : \n",
    "            return \"No occurences\"\n",
    "        else:\n",
    "            return str(occur) + \" occurences\""
   ]
  },
  {
   "cell_type": "code",
   "execution_count": 56,
   "id": "437b9ca1",
   "metadata": {},
   "outputs": [
    {
     "data": {
      "text/plain": [
       "'1 occurence'"
      ]
     },
     "execution_count": 56,
     "metadata": {},
     "output_type": "execute_result"
    }
   ],
   "source": [
    "total_occurences(\"Car\",words)"
   ]
  },
  {
   "cell_type": "code",
   "execution_count": null,
   "id": "471cf7fe",
   "metadata": {},
   "outputs": [],
   "source": []
  },
  {
   "cell_type": "markdown",
   "id": "e4322788",
   "metadata": {},
   "source": [
    "## Q3) Write a function called \"ends_with_s\" that: \n",
    "\n",
    "*What to do?*\n",
    "- Accepts a list of words\n",
    "- Return how many words in the list end with the letter \"s\"\n",
    "\n",
    "*What to Print? / Testing*\n",
    "- Create two lists to test this function\n",
    "- Test this function with these two lists"
   ]
  },
  {
   "cell_type": "code",
   "execution_count": null,
   "id": "9316e19e",
   "metadata": {},
   "outputs": [],
   "source": []
  },
  {
   "cell_type": "code",
   "execution_count": 57,
   "id": "617ab953",
   "metadata": {},
   "outputs": [],
   "source": [
    "def ends_with_s(words):\n",
    "    counter = 0\n",
    "    for word in words:\n",
    "        if word.endswith(\"s\"):\n",
    "            counter = counter+1\n",
    "            \n",
    "            \n",
    "        return str(counter) + \" many words in the list ends with s\"\n",
    "    \n",
    "            "
   ]
  },
  {
   "cell_type": "markdown",
   "id": "104ca634",
   "metadata": {},
   "source": [
    "## Q4) Write a function called total_values that: \n",
    "\n",
    "*What to do?*\n",
    "- Accepts a list of words \n",
    "- Returns how many items are in the list the list. \n",
    "- **You are not allowed to use the len() function.**\n",
    "\n",
    "*What to print? / Testing*\n",
    "- Create two lists to test this function\n",
    "- Test this function with these two lists"
   ]
  },
  {
   "cell_type": "code",
   "execution_count": null,
   "id": "7ac6562c",
   "metadata": {},
   "outputs": [],
   "source": []
  },
  {
   "cell_type": "code",
   "execution_count": 59,
   "id": "00692882",
   "metadata": {},
   "outputs": [],
   "source": [
    "def total_values(words):\n",
    "    counter =0\n",
    "    for word in words :\n",
    "        counter= counter+1\n",
    "        \n",
    "    return counter"
   ]
  },
  {
   "cell_type": "markdown",
   "id": "dee60fe7",
   "metadata": {},
   "source": [
    "## Q5) Write a function called list_average that: \n",
    "\n",
    "*What to Do?*\n",
    "- Accepts a list of numbers\n",
    "- Returns the average of the list of numbers\n",
    "- **You are not allowed to use the sum() function**\n",
    "\n",
    "*What to Print?*\n",
    "- Create two lists to test this function\n",
    "- Test this function with these two lists"
   ]
  },
  {
   "cell_type": "code",
   "execution_count": 61,
   "id": "08ef418a",
   "metadata": {},
   "outputs": [],
   "source": [
    "def list_average(nums):\n",
    "    total = 0\n",
    "    count = 0\n",
    "    for num in nums:\n",
    "        total= total+ num\n",
    "        count=count+1\n",
    "        \n",
    "    average = total/count\n",
    "    return average"
   ]
  },
  {
   "cell_type": "code",
   "execution_count": null,
   "id": "e9bbacb2",
   "metadata": {},
   "outputs": [],
   "source": []
  },
  {
   "cell_type": "markdown",
   "id": "d9bf1c59",
   "metadata": {},
   "source": [
    "## Q6) BONUS: Write a function called is_sorted that: \n",
    "\n",
    "*What to do?*\n",
    "- Accepts a list of numbers\n",
    "- Returns “Sorted\" if the list is sorted in ascending order (min to max) \n",
    "- Returns “Not Sorted” otherwise\n",
    "- For example a list [12, 34, 49] should return “Sorted” and a list [49, 32, 12, 34] should return “Not Sorted”.\n",
    "\n",
    "*What to print? / Testing*\n",
    "- Create two lists to test this function\n",
    "- Test this function with these two lists"
   ]
  },
  {
   "cell_type": "code",
   "execution_count": null,
   "id": "fe778d7f",
   "metadata": {},
   "outputs": [],
   "source": [
    "def is_sorted(nums):\n",
    "    variable = 0\n",
    "    for num in nums:\n",
    "        if num>variable:\n",
    "            variable=variable+num\n",
    "            \n",
    "        "
   ]
  },
  {
   "cell_type": "markdown",
   "id": "c2d82743",
   "metadata": {},
   "source": [
    "## Q7) BONUS: Write a function called list_is_even that: \n",
    "\n",
    "*What to Do?* \n",
    "- Accepts a list of numbers\n",
    "- Returns \"List has even and odd numbers\" if there are both odd and even numbers\n",
    "- Returns \"List has even numbers\" if there are only even numbers\n",
    "- *Hint:* You will need to use % as a mathematical operator. Google more on that. \n",
    "\n",
    "*What to print?/Testing*\n",
    "- Create two lists to test this function\n",
    "- Test this function with these two lists"
   ]
  },
  {
   "cell_type": "code",
   "execution_count": null,
   "id": "a1ceb279",
   "metadata": {},
   "outputs": [],
   "source": []
  },
  {
   "cell_type": "code",
   "execution_count": null,
   "id": "a8821c5f",
   "metadata": {},
   "outputs": [],
   "source": []
  },
  {
   "cell_type": "code",
   "execution_count": 65,
   "id": "36f63e4a",
   "metadata": {},
   "outputs": [],
   "source": [
    "def multiply_all(nums):\n",
    "    product = 1\n",
    "    for num in nums:\n",
    "        product = product*num\n",
    "        \n",
    "    return product"
   ]
  },
  {
   "cell_type": "code",
   "execution_count": 63,
   "id": "76d8736c",
   "metadata": {},
   "outputs": [
    {
     "data": {
      "text/plain": [
       "2088960"
      ]
     },
     "execution_count": 63,
     "metadata": {},
     "output_type": "execute_result"
    }
   ],
   "source": [
    "nums=[1,34,64,32,5,6,]\n",
    "multiply_all(nums)"
   ]
  },
  {
   "cell_type": "code",
   "execution_count": null,
   "id": "481ffff8",
   "metadata": {},
   "outputs": [],
   "source": []
  }
 ],
 "metadata": {
  "kernelspec": {
   "display_name": "Python 3",
   "language": "python",
   "name": "python3"
  },
  "language_info": {
   "codemirror_mode": {
    "name": "ipython",
    "version": 3
   },
   "file_extension": ".py",
   "mimetype": "text/x-python",
   "name": "python",
   "nbconvert_exporter": "python",
   "pygments_lexer": "ipython3",
   "version": "3.8.8"
  }
 },
 "nbformat": 4,
 "nbformat_minor": 5
}
