{
 "cells": [
  {
   "cell_type": "markdown",
   "id": "cf475032",
   "metadata": {},
   "source": [
    "## lecture 5 For loops \n",
    "Siddharth Prasad"
   ]
  },
  {
   "cell_type": "code",
   "execution_count": 76,
   "id": "20f98d6d",
   "metadata": {},
   "outputs": [],
   "source": [
    "numbers = [1,3]"
   ]
  },
  {
   "cell_type": "code",
   "execution_count": 77,
   "id": "7f356c78",
   "metadata": {},
   "outputs": [],
   "source": [
    "def num_printer(numbers):\n",
    "    for number in numbers:\n",
    "        print (number)"
   ]
  },
  {
   "cell_type": "code",
   "execution_count": 78,
   "id": "aeb89cd8",
   "metadata": {},
   "outputs": [
    {
     "name": "stdout",
     "output_type": "stream",
     "text": [
      "1\n",
      "3\n"
     ]
    }
   ],
   "source": [
    "num_printer(numbers)\n",
    "    "
   ]
  },
  {
   "cell_type": "code",
   "execution_count": 79,
   "id": "c46a49c8",
   "metadata": {},
   "outputs": [],
   "source": [
    "def gold_finder(words):\n",
    "    for word in words:\n",
    "        if word==\"gold\"or word==\"Gold\":\n",
    "            return \"Gold found\"\n",
    "    return\"Gold not found\""
   ]
  },
  {
   "cell_type": "code",
   "execution_count": 80,
   "id": "88a00b93",
   "metadata": {},
   "outputs": [],
   "source": [
    "metals = [\"copper\", \"silver\", \"bronze\",\"gold\"]"
   ]
  },
  {
   "cell_type": "code",
   "execution_count": 81,
   "id": "b42c3b7b",
   "metadata": {},
   "outputs": [
    {
     "data": {
      "text/plain": [
       "'Gold found'"
      ]
     },
     "execution_count": 81,
     "metadata": {},
     "output_type": "execute_result"
    }
   ],
   "source": [
    "gold_finder(metals)"
   ]
  },
  {
   "cell_type": "code",
   "execution_count": 82,
   "id": "7ae40cfc",
   "metadata": {},
   "outputs": [],
   "source": [
    "def number_finder(numbers):\n",
    "    for number in numbers :\n",
    "        if number == 7 or number == 14:\n",
    "            return\"number found\"\n",
    "    return\"Number not found\""
   ]
  },
  {
   "cell_type": "code",
   "execution_count": 83,
   "id": "50dae18b",
   "metadata": {},
   "outputs": [
    {
     "data": {
      "text/plain": [
       "'Number not found'"
      ]
     },
     "execution_count": 83,
     "metadata": {},
     "output_type": "execute_result"
    }
   ],
   "source": [
    "number_finder(numbers)"
   ]
  },
  {
   "cell_type": "code",
   "execution_count": 86,
   "id": "0d20fe1d",
   "metadata": {},
   "outputs": [],
   "source": [
    "def even_num_finder(numbers):\n",
    "    for number in numbers :\n",
    "        if number%2 == 0 :\n",
    "            return \" is an even number\"\n",
    "    return \"is not an even number\"\n",
    "    "
   ]
  },
  {
   "cell_type": "code",
   "execution_count": 87,
   "id": "b5c069e2",
   "metadata": {},
   "outputs": [
    {
     "data": {
      "text/plain": [
       "'is not an even number'"
      ]
     },
     "execution_count": 87,
     "metadata": {},
     "output_type": "execute_result"
    }
   ],
   "source": [
    "even_num_finder(numbers)"
   ]
  },
  {
   "cell_type": "code",
   "execution_count": 88,
   "id": "c6d3005f",
   "metadata": {},
   "outputs": [],
   "source": [
    "def odd_num_finder(numbers):\n",
    "    for number in numbers :\n",
    "        if number%2 != 0:\n",
    "            return \"it is an odd number\"\n",
    "        return\"it is not an odd number \""
   ]
  },
  {
   "cell_type": "code",
   "execution_count": 93,
   "id": "1bac9638",
   "metadata": {},
   "outputs": [],
   "source": [
    "def word_finder(target,words):\n",
    "    for word in words :\n",
    "        if word.upper() == target.upper():\n",
    "            return(target + \" found\")\n",
    "        return(target + \" not found\")\n",
    "    "
   ]
  },
  {
   "cell_type": "code",
   "execution_count": 94,
   "id": "976dc5e2",
   "metadata": {},
   "outputs": [
    {
     "data": {
      "text/plain": [
       "'copper found'"
      ]
     },
     "execution_count": 94,
     "metadata": {},
     "output_type": "execute_result"
    }
   ],
   "source": [
    "word_finder(\"copper\",metals)"
   ]
  },
  {
   "cell_type": "code",
   "execution_count": 108,
   "id": "6750dbfb",
   "metadata": {},
   "outputs": [],
   "source": [
    "def first_index_of(target,words):\n",
    "    index = 0\n",
    "    for word in words :\n",
    "        if target == word :\n",
    "            return index\n",
    "        else :\n",
    "            index =index + 1\n",
    "        \n",
    "    return -1"
   ]
  },
  {
   "cell_type": "code",
   "execution_count": 112,
   "id": "6fcae9a7",
   "metadata": {},
   "outputs": [],
   "source": [
    "words= [\"pen\",\"pencil\",\"pencil\",\"watch\",\"bowl\"]"
   ]
  },
  {
   "cell_type": "code",
   "execution_count": 113,
   "id": "0722d2a4",
   "metadata": {},
   "outputs": [
    {
     "data": {
      "text/plain": [
       "1"
      ]
     },
     "execution_count": 113,
     "metadata": {},
     "output_type": "execute_result"
    }
   ],
   "source": [
    "first_index_of(\"pencil\",words)"
   ]
  },
  {
   "cell_type": "code",
   "execution_count": 119,
   "id": "a4d55d8f",
   "metadata": {},
   "outputs": [],
   "source": [
    "def word_counter(target,words):\n",
    "    counter=0\n",
    "    for word in words :\n",
    "        if target == word:\n",
    "            counter=counter+1\n",
    "    return counter"
   ]
  },
  {
   "cell_type": "code",
   "execution_count": 120,
   "id": "495d738a",
   "metadata": {},
   "outputs": [
    {
     "data": {
      "text/plain": [
       "2"
      ]
     },
     "execution_count": 120,
     "metadata": {},
     "output_type": "execute_result"
    }
   ],
   "source": [
    "word_counter(\"pencil\",words)"
   ]
  },
  {
   "cell_type": "code",
   "execution_count": null,
   "id": "892ab8dc",
   "metadata": {},
   "outputs": [],
   "source": []
  }
 ],
 "metadata": {
  "kernelspec": {
   "display_name": "Python 3",
   "language": "python",
   "name": "python3"
  },
  "language_info": {
   "codemirror_mode": {
    "name": "ipython",
    "version": 3
   },
   "file_extension": ".py",
   "mimetype": "text/x-python",
   "name": "python",
   "nbconvert_exporter": "python",
   "pygments_lexer": "ipython3",
   "version": "3.8.8"
  }
 },
 "nbformat": 4,
 "nbformat_minor": 5
}
