{
 "cells": [
  {
   "cell_type": "markdown",
   "id": "5b20af98",
   "metadata": {},
   "source": [
    "# Practice your variables!\n",
    "Course: BBA 108-Essentials of Computing & Coding\n",
    "\n",
    "Submission date: Sunday (19/09/21), 11:59 p.m.\n",
    "\n",
    "Hey everyone! This is a practice bonus assignment worth 10 points. I **highly** encourage all of you to do this.\n",
    "\n",
    "Please contact the following **on Slack** if there are any questions or issues:\n",
    "\n",
    "- @Shourya Watwani \n",
    "- @Vanshika Raj \n",
    "- @Aryan Gupta \n",
    "\n",
    "Thank you! Happy coding :)\n"
   ]
  },
  {
   "cell_type": "markdown",
   "id": "4ed5b3ea",
   "metadata": {},
   "source": [
    " - Name - Siddharth Prasad\n",
    " - section - B_51"
   ]
  },
  {
   "cell_type": "code",
   "execution_count": 1,
   "id": "d7643d51",
   "metadata": {},
   "outputs": [],
   "source": [
    "# Create and print a variable to tell us your name."
   ]
  },
  {
   "cell_type": "code",
   "execution_count": 2,
   "id": "1e972986",
   "metadata": {},
   "outputs": [
    {
     "name": "stdout",
     "output_type": "stream",
     "text": [
      "Student name: Siddharth Prasad \n"
     ]
    }
   ],
   "source": [
    "# name variable \n",
    "student_name =\"Siddharth Prasad \"\n",
    "print(\"Student name:\",student_name)"
   ]
  },
  {
   "cell_type": "code",
   "execution_count": 3,
   "id": "a48e84de",
   "metadata": {},
   "outputs": [],
   "source": [
    "# Create and print a variable to tell us your age."
   ]
  },
  {
   "cell_type": "code",
   "execution_count": 4,
   "id": "598085a5",
   "metadata": {},
   "outputs": [
    {
     "data": {
      "text/plain": [
       "19"
      ]
     },
     "execution_count": 4,
     "metadata": {},
     "output_type": "execute_result"
    }
   ],
   "source": [
    "# Printing Age \n",
    "student_age = 19\n",
    "student_age"
   ]
  },
  {
   "cell_type": "code",
   "execution_count": 5,
   "id": "fb242ec5",
   "metadata": {},
   "outputs": [],
   "source": [
    "# Create and print a variable to tell us how many times you've taken a trip within India."
   ]
  },
  {
   "cell_type": "code",
   "execution_count": 6,
   "id": "d23be032",
   "metadata": {},
   "outputs": [
    {
     "data": {
      "text/plain": [
       "5"
      ]
     },
     "execution_count": 6,
     "metadata": {},
     "output_type": "execute_result"
    }
   ],
   "source": [
    "# Trip in india \n",
    "india_trip = 5\n",
    "india_trip"
   ]
  },
  {
   "cell_type": "code",
   "execution_count": 7,
   "id": "ac849402",
   "metadata": {},
   "outputs": [],
   "source": [
    "# Create and print a variable to tell us how many times you've taken a trip outside India."
   ]
  },
  {
   "cell_type": "code",
   "execution_count": 8,
   "id": "5b362265",
   "metadata": {},
   "outputs": [
    {
     "data": {
      "text/plain": [
       "4"
      ]
     },
     "execution_count": 8,
     "metadata": {},
     "output_type": "execute_result"
    }
   ],
   "source": [
    "# Foreign trip\n",
    "foreign_trip = 4\n",
    "foreign_trip"
   ]
  },
  {
   "cell_type": "code",
   "execution_count": 9,
   "id": "bf7668ee",
   "metadata": {},
   "outputs": [],
   "source": [
    "# Create and print a variable to calculate the total number of trips you've taken."
   ]
  },
  {
   "cell_type": "code",
   "execution_count": 10,
   "id": "1892c5b9",
   "metadata": {},
   "outputs": [
    {
     "data": {
      "text/plain": [
       "9"
      ]
     },
     "execution_count": 10,
     "metadata": {},
     "output_type": "execute_result"
    }
   ],
   "source": [
    "#Total trips \n",
    "total_trips = india_trip+foreign_trip\n",
    "total_trips"
   ]
  },
  {
   "cell_type": "code",
   "execution_count": 11,
   "id": "52224f94",
   "metadata": {},
   "outputs": [
    {
     "data": {
      "text/plain": [
       "'Total number of trips taken are 9'"
      ]
     },
     "execution_count": 11,
     "metadata": {},
     "output_type": "execute_result"
    }
   ],
   "source": [
    "# Create and print a variable to tell us total number of trips you've taken, using the numeric value in a sentence.\n",
    "sentence = \"Total number of trips taken are \"\n",
    "total_sentence = sentence +str((total_trips))\n",
    "total_sentence"
   ]
  },
  {
   "cell_type": "code",
   "execution_count": 12,
   "id": "612c68f3",
   "metadata": {},
   "outputs": [],
   "source": [
    "# Create and print a variable to tell us whether the statement-\n",
    "# -\"I have taken more trips within India than outside India\" is true or false using boolean variables."
   ]
  },
  {
   "cell_type": "code",
   "execution_count": 13,
   "id": "e4216f4d",
   "metadata": {},
   "outputs": [
    {
     "name": "stdout",
     "output_type": "stream",
     "text": [
      "True\n",
      "i have taken more trips in india\n"
     ]
    }
   ],
   "source": [
    "#Boolean trip\n",
    "line = \"i have taken more trips in india\"\n",
    "t = india_trip>foreign_trip\n",
    "print(t)\n",
    "print(line)"
   ]
  },
  {
   "cell_type": "code",
   "execution_count": 14,
   "id": "e3f32aae",
   "metadata": {},
   "outputs": [
    {
     "name": "stdout",
     "output_type": "stream",
     "text": [
      "I have taken more trips within india\n"
     ]
    }
   ],
   "source": [
    "# Bollean Trip in if & else statement\n",
    "if india_trip>foreign_trip:\n",
    "    print(\"I have taken more trips within india\")\n",
    "else:\n",
    "    print(\"I have not taken more trips within india \")"
   ]
  },
  {
   "cell_type": "code",
   "execution_count": 15,
   "id": "aaee2c68",
   "metadata": {},
   "outputs": [],
   "source": [
    "# Create and print a variable to calculate the average number of trips you've taken in a year using-\n",
    "# your total number of trips and your age."
   ]
  },
  {
   "cell_type": "code",
   "execution_count": 16,
   "id": "f762c4e8",
   "metadata": {},
   "outputs": [
    {
     "data": {
      "text/plain": [
       "0.47"
      ]
     },
     "execution_count": 16,
     "metadata": {},
     "output_type": "execute_result"
    }
   ],
   "source": [
    "# Average trip \n",
    "average_trip =(total_trips/student_age)\n",
    "average=round(average_trip,2)\n",
    "average\n"
   ]
  },
  {
   "cell_type": "code",
   "execution_count": 17,
   "id": "810f16f4",
   "metadata": {},
   "outputs": [],
   "source": [
    "# Create and print a variable to tell us average number of trips you've taken, using the numeric value in a sentence."
   ]
  },
  {
   "cell_type": "code",
   "execution_count": 18,
   "id": "1b9b3528",
   "metadata": {},
   "outputs": [
    {
     "data": {
      "text/plain": [
       "'your average number of trips taken is 0.47368421052631576'"
      ]
     },
     "execution_count": 18,
     "metadata": {},
     "output_type": "execute_result"
    }
   ],
   "source": [
    "# Average trip in sentence \n",
    "sent= \"your average number of trips taken is \"\n",
    "total_sent= sent+ str((average_trip))\n",
    "total_sent"
   ]
  },
  {
   "cell_type": "code",
   "execution_count": null,
   "id": "3c0cdd7f",
   "metadata": {},
   "outputs": [],
   "source": []
  }
 ],
 "metadata": {
  "kernelspec": {
   "display_name": "Python 3",
   "language": "python",
   "name": "python3"
  },
  "language_info": {
   "codemirror_mode": {
    "name": "ipython",
    "version": 3
   },
   "file_extension": ".py",
   "mimetype": "text/x-python",
   "name": "python",
   "nbconvert_exporter": "python",
   "pygments_lexer": "ipython3",
   "version": "3.8.8"
  }
 },
 "nbformat": 4,
 "nbformat_minor": 5
}
