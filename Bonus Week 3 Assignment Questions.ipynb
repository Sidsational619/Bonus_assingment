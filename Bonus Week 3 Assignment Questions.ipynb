{
 "cells": [
  {
   "cell_type": "markdown",
   "id": "324f16d6",
   "metadata": {},
   "source": [
    "# Bonus Assignment 3: For Loops and Lists\n",
    "\n",
    "- Student Name: Siddharth Prasad\n",
    "- Division: B\n",
    "- Roll Number: 51"
   ]
  },
  {
   "cell_type": "markdown",
   "id": "b07c8a7a",
   "metadata": {},
   "source": [
    "# For Loops"
   ]
  },
  {
   "cell_type": "markdown",
   "id": "fa6ebbf9",
   "metadata": {},
   "source": [
    "# Q1) Create a function called emoji_grader that accepts a list of grades and prints emojis based on the following grading scheme: \n",
    "- 100: 😱😱😱😱😱😱\n",
    "- 90 to 99: 🔥🔥🔥🔥🔥\n",
    "- 70 to 89: 🎉🎉🎉🎉🎉\n",
    "- 60 to 69: 😐😐😐😐😐\n",
    "- 35 to 59: 👀\n",
    "- 1 to 34: 👀👀👀👀👀\n",
    "- 0: 💀💀💀💀💀"
   ]
  },
  {
   "cell_type": "code",
   "execution_count": 1,
   "id": "a7b0caf0",
   "metadata": {},
   "outputs": [],
   "source": [
    "def emoji_grader(grades):\n",
    "    for grade in grades:\n",
    "        if grade == 100:\n",
    "             print(\"😱😱😱😱😱😱\")\n",
    "        elif grade>= 90 | grade<=99:\n",
    "             print (\"🔥🔥🔥🔥🔥\")\n",
    "        elif grade>=70 | grade<=89:\n",
    "             print (\"🎉🎉🎉🎉🎉\")\n",
    "        elif grade>=60 | grade<=69:\n",
    "             print (\"😐😐😐😐😐\")\n",
    "        elif grade>=35 | grade<=59:\n",
    "             print (\"👀\")\n",
    "        elif grade>=1 | grade<=34:\n",
    "             print (\"👀👀👀👀👀\")\n",
    "        else :\n",
    "            print (\"💀💀💀💀💀\")\n",
    "            "
   ]
  },
  {
   "cell_type": "code",
   "execution_count": 2,
   "id": "600320bd",
   "metadata": {},
   "outputs": [
    {
     "name": "stdout",
     "output_type": "stream",
     "text": [
      "👀👀👀👀👀\n",
      "💀💀💀💀💀\n",
      "🔥🔥🔥🔥🔥\n"
     ]
    }
   ],
   "source": [
    "grades =[1,10,90]\n",
    "emoji_grader(grades)\n"
   ]
  },
  {
   "cell_type": "markdown",
   "id": "bac1f93e",
   "metadata": {},
   "source": [
    "## Q2) Create a function called square_printer that accepts a list of numbers and prints the square of each number in the list. Test your function with two lists. (5 Marks): \n",
    "\n",
    "**Here is an example of what the output would look like for the following list [2,4,5]**\n",
    "\n",
    "Current Number is 2  and the Square is 4\n",
    "\n",
    "Current Number is 4  and the Square is 16\n",
    "\n",
    "Current Number is 5  and the Square is 25"
   ]
  },
  {
   "cell_type": "code",
   "execution_count": 3,
   "id": "21d996c3",
   "metadata": {},
   "outputs": [],
   "source": [
    "def square_printer(nums):\n",
    "    for num in nums:\n",
    "        x=num*num\n",
    "        print(\"Current Number is \",+num ,\" and the Square is \",+x)"
   ]
  },
  {
   "cell_type": "code",
   "execution_count": 4,
   "id": "db25e30a",
   "metadata": {},
   "outputs": [],
   "source": [
    "nums=[1,4,8,7,5,0,3,9]"
   ]
  },
  {
   "cell_type": "code",
   "execution_count": 5,
   "id": "984755b4",
   "metadata": {},
   "outputs": [
    {
     "name": "stdout",
     "output_type": "stream",
     "text": [
      "Current Number is  1  and the Square is  1\n",
      "Current Number is  4  and the Square is  16\n",
      "Current Number is  8  and the Square is  64\n",
      "Current Number is  7  and the Square is  49\n",
      "Current Number is  5  and the Square is  25\n",
      "Current Number is  0  and the Square is  0\n",
      "Current Number is  3  and the Square is  9\n",
      "Current Number is  9  and the Square is  81\n"
     ]
    }
   ],
   "source": [
    "square_printer(nums)"
   ]
  },
  {
   "cell_type": "markdown",
   "id": "c3fdc03e",
   "metadata": {},
   "source": [
    "# Q3) Create a function called vowel_count_printer that (10 Marks): \n",
    "\n",
    "\n",
    "- Accepts a sentence \n",
    "- Prints the total vowels (\"a\", \"e\", \"i', \"o\", \"u\") for each word in the sentence\n",
    "- Ensure your function is not case sensitve\n",
    "\n",
    "**For example, the sentence \"Hello, I am Zoshua Colah\" should print the following:**\n",
    "\n",
    "Current Word is: Hello and the Total Vowels in the Word are 2\n",
    "\n",
    "Current Word is: I and the Total Vowels in the Word are 1\n",
    "\n",
    "Current Word is: am and the Total Vowels in the Word are 1\n",
    "\n",
    "Current Word is: Zoshua and the Total Vowels in the Word are 3\n",
    "\n",
    "Current Word is: Colah and the Total Vowels in the Word are 2"
   ]
  },
  {
   "cell_type": "code",
   "execution_count": null,
   "id": "3b304654",
   "metadata": {},
   "outputs": [],
   "source": []
  },
  {
   "cell_type": "code",
   "execution_count": 6,
   "id": "c39bdacc",
   "metadata": {},
   "outputs": [],
   "source": [
    "def vowel_count_printer (sentence):\n",
    "    count = 0\n",
    "    sentence = sentence.split(\" \")\n",
    "    vowels = [\"a\",\"e\",\"i\",\"o\",\"u\"]\n",
    "    letter = \"\"\n",
    "    for words in sentence:\n",
    "        letter = \"\"\n",
    "        letter = letter + words\n",
    "        for word in letter:\n",
    "            word=word.lower()\n",
    "            if word in vowels:\n",
    "                count = count+1\n",
    "        print(\"Current Word is \"+ words +\" and the total vowels in the words are \"+str(count))\n",
    "        del letter\n",
    "        count = 0\n",
    "        \n",
    "            \n",
    "        "
   ]
  },
  {
   "cell_type": "code",
   "execution_count": 7,
   "id": "9edc91ae",
   "metadata": {},
   "outputs": [
    {
     "name": "stdout",
     "output_type": "stream",
     "text": [
      "Current Word is Hello and the total vowels in the words are 2\n",
      "Current Word is My and the total vowels in the words are 0\n",
      "Current Word is Name and the total vowels in the words are 2\n",
      "Current Word is Is and the total vowels in the words are 1\n",
      "Current Word is Siddharth and the total vowels in the words are 2\n",
      "Current Word is Prasad and the total vowels in the words are 2\n"
     ]
    }
   ],
   "source": [
    "sentence = \"Hello My Name Is Siddharth Prasad\"\n",
    "vowel_count_printer(sentence)"
   ]
  },
  {
   "cell_type": "code",
   "execution_count": null,
   "id": "496f43f9",
   "metadata": {},
   "outputs": [],
   "source": []
  },
  {
   "cell_type": "code",
   "execution_count": null,
   "id": "06b1b7ce",
   "metadata": {},
   "outputs": [],
   "source": []
  },
  {
   "cell_type": "code",
   "execution_count": null,
   "id": "798857a7",
   "metadata": {},
   "outputs": [],
   "source": []
  },
  {
   "cell_type": "code",
   "execution_count": null,
   "id": "7e9a134f",
   "metadata": {},
   "outputs": [],
   "source": []
  }
 ],
 "metadata": {
  "kernelspec": {
   "display_name": "Python 3",
   "language": "python",
   "name": "python3"
  },
  "language_info": {
   "codemirror_mode": {
    "name": "ipython",
    "version": 3
   },
   "file_extension": ".py",
   "mimetype": "text/x-python",
   "name": "python",
   "nbconvert_exporter": "python",
   "pygments_lexer": "ipython3",
   "version": "3.8.8"
  }
 },
 "nbformat": 4,
 "nbformat_minor": 5
}
